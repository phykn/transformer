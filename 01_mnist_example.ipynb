{
 "cells": [
  {
   "cell_type": "code",
   "execution_count": 1,
   "metadata": {},
   "outputs": [],
   "source": [
    "import math\n",
    "import idx2numpy\n",
    "import numpy as np\n",
    "from dataclasses import dataclass\n",
    "from tqdm import tqdm\n",
    "from typing import Tuple\n",
    "\n",
    "import torch\n",
    "import torch.nn as nn\n",
    "from torch.utils.data import DataLoader\n",
    "\n",
    "import matplotlib.pyplot as plt\n",
    "from ipywidgets import interact"
   ]
  },
  {
   "cell_type": "code",
   "execution_count": 2,
   "metadata": {},
   "outputs": [],
   "source": [
    "class MNIST_Dataset:\n",
    "    def __init__(self, images, labels):\n",
    "        self.images = images\n",
    "        self.labels = labels\n",
    "\n",
    "    def __len__(self):\n",
    "        return len(self.images)\n",
    "\n",
    "    def __getitem__(self, idx):\n",
    "        return dict(\n",
    "            image=self.images[idx][None, :, :]/255.0,\n",
    "            label=self.labels[idx]\n",
    "        )\n",
    "\n",
    "class PositionEmbeddingSine(nn.Module):\n",
    "    \"\"\"\n",
    "    source: https://github.com/facebookresearch/detr/blob/main/models/position_encoding.py\n",
    "    This is a more standard version of the position embedding, very similar to the one\n",
    "    used by the Attention is all you need paper, generalized to work on images.\n",
    "\n",
    "    Modified: Delete about mask\n",
    "    \"\"\"\n",
    "    def __init__(self, num_pos_feats=64, temperature=10000, normalize=False, scale=None):\n",
    "        super().__init__()\n",
    "        self.num_pos_feats = num_pos_feats\n",
    "        self.temperature = temperature\n",
    "        self.normalize = normalize\n",
    "        if scale is not None and normalize is False:\n",
    "            raise ValueError(\"normalize should be True if scale is passed\")\n",
    "        if scale is None:\n",
    "            scale = 2 * math.pi\n",
    "        self.scale = scale\n",
    "\n",
    "    def forward(self, x):\n",
    "        N, C, H, W = x.shape\n",
    "        mask = torch.full((N, H, W), False, dtype=torch.bool, device=x.device)\n",
    "        not_mask = ~mask\n",
    "        y_embed = not_mask.cumsum(1, dtype=torch.float32)\n",
    "        x_embed = not_mask.cumsum(2, dtype=torch.float32)\n",
    "        if self.normalize:\n",
    "            eps = 1e-6\n",
    "            y_embed = y_embed / (y_embed[:, -1:, :] + eps) * self.scale\n",
    "            x_embed = x_embed / (x_embed[:, :, -1:] + eps) * self.scale\n",
    "\n",
    "        dim_t = torch.arange(self.num_pos_feats, dtype=torch.float32, device=x.device)\n",
    "        dim_t = self.temperature ** (2 * torch.floor(dim_t / 2) / self.num_pos_feats)\n",
    "\n",
    "        pos_x = x_embed[:, :, :, None] / dim_t\n",
    "        pos_y = y_embed[:, :, :, None] / dim_t\n",
    "        pos_x = torch.stack((pos_x[:, :, :, 0::2].sin(), pos_x[:, :, :, 1::2].cos()), dim=4).flatten(3)\n",
    "        pos_y = torch.stack((pos_y[:, :, :, 0::2].sin(), pos_y[:, :, :, 1::2].cos()), dim=4).flatten(3)\n",
    "        pos = torch.cat((pos_y, pos_x), dim=3).permute(0, 3, 1, 2)\n",
    "        return pos\n",
    "\n",
    "class Conv2d(nn.Module):\n",
    "    def __init__(self, img_channels, hidden_dim):\n",
    "        super().__init__()\n",
    "        self.layer = nn.Conv2d(\n",
    "            img_channels, \n",
    "            hidden_dim, \n",
    "            kernel_size=3,\n",
    "            padding=1\n",
    "        )\n",
    "\n",
    "    def forward(self, x):\n",
    "        return self.layer(x)\n",
    "\n",
    "class FFN(nn.Module):\n",
    "    def __init__(self, d_model, d_ff=512, dropout=0.1):\n",
    "        super().__init__()\n",
    "        self.linear_1 = nn.Linear(d_model, d_ff)\n",
    "        self.act = nn.GELU()\n",
    "        self.dropout = nn.Dropout(dropout)\n",
    "        self.linear_2 = nn.Linear(d_ff, d_model)\n",
    "\n",
    "    def forward(self, x):\n",
    "        x = self.linear_1(x)\n",
    "        x = self.act(x)\n",
    "        x = self.dropout(x)\n",
    "        x = self.linear_2(x)\n",
    "        return x\n",
    "\n",
    "class GlobalAveragePooling2D(nn.Module):\n",
    "    def __init__(self, n_dim, eps=1e-6):\n",
    "        super().__init__()\n",
    "        self.norm = nn.LayerNorm(n_dim, eps=eps)\n",
    "\n",
    "    def forward(self, x):\n",
    "        return self.norm(x.mean([-2, -1]))\n",
    "\n",
    "class Transformer(nn.Module):\n",
    "    def __init__(self, d_model, n_head, d_ff=512, dropout=0.1):\n",
    "        super().__init__()\n",
    "        self.att_layer = nn.MultiheadAttention(d_model, n_head, dropout=dropout)\n",
    "        self.ffn = FFN(d_model, d_ff=d_ff, dropout=dropout)\n",
    "        self.norm_1 = nn.LayerNorm(d_model)\n",
    "        self.norm_2 = nn.LayerNorm(d_model)\n",
    "        self.dropout_1 = nn.Dropout(dropout)\n",
    "        self.dropout_2 = nn.Dropout(dropout)\n",
    "\n",
    "    @staticmethod\n",
    "    def bcwh2nbc(\n",
    "        x: torch.Tensor\n",
    "    ) -> torch.Tensor:\n",
    "        return x.flatten(2).permute(2, 0, 1)\n",
    "\n",
    "    @staticmethod\n",
    "    def nbc2bcwh(\n",
    "        x: torch.Tensor\n",
    "    ) -> torch.Tensor:\n",
    "        n, b, c = x.shape\n",
    "        w = h = math.sqrt(n)\n",
    "        return x.permute(1, 2, 0).view(b, c, int(w), int(h))\n",
    "\n",
    "    def forward(\n",
    "        self,\n",
    "        x: torch.Tensor,\n",
    "        p: torch.Tensor\n",
    "    ) -> Tuple[torch.Tensor, torch.Tensor]:\n",
    "        x = self.bcwh2nbc(x)\n",
    "        p = self.bcwh2nbc(p)\n",
    "\n",
    "        q = k = x + p\n",
    "        y, score = self.att_layer(q, k, x)\n",
    "        x = self.norm_1(x+self.dropout_1(y))\n",
    "        x = self.norm_2(x+self.dropout_2(self.ffn(x)))\n",
    "        x = self.nbc2bcwh(x)\n",
    "        return x, score\n",
    "\n",
    "class Model(nn.Module):\n",
    "    def __init__(self, img_channels, hidden_dim, n_head, d_ff, dropout, n_class):\n",
    "        super().__init__()\n",
    "        self.position_embed = PositionEmbeddingSine(\n",
    "            num_pos_feats=hidden_dim//2,\n",
    "            normalize=True\n",
    "        )\n",
    "        self.conv = Conv2d(img_channels, hidden_dim)\n",
    "        self.transformer_1 = Transformer(hidden_dim, n_head, d_ff, dropout)\n",
    "        self.transformer_2 = Transformer(hidden_dim, n_head, d_ff, dropout)\n",
    "        self.gap = GlobalAveragePooling2D(hidden_dim)\n",
    "        self.classfier = nn.Linear(hidden_dim, n_class)\n",
    "        self.apply(self._init_weights)\n",
    "\n",
    "    def _init_weights(self, m):\n",
    "        if isinstance(m, (nn.Linear, nn.Conv2d)):\n",
    "            torch.nn.init.xavier_uniform_(m.weight)\n",
    "            if m.bias is not None:\n",
    "                m.bias.data.zero_()\n",
    "        elif isinstance(m, nn.LayerNorm):\n",
    "            m.weight.data.fill_(1.0)\n",
    "            m.bias.data.zero_()            \n",
    "\n",
    "    def forward(self, x):\n",
    "        x = self.conv(x)\n",
    "        p = self.position_embed(x)\n",
    "        x, score = self.transformer_1(x, p)\n",
    "        x, score = self.transformer_2(x, p)\n",
    "        x = self.gap(x)\n",
    "        x = self.classfier(x)        \n",
    "        return x, score"
   ]
  },
  {
   "cell_type": "code",
   "execution_count": 3,
   "metadata": {},
   "outputs": [],
   "source": [
    "# args\n",
    "@dataclass\n",
    "class set_args:\n",
    "    img_channel: int=1\n",
    "    n_class: int=10\n",
    "    hidden_dim: int=64\n",
    "    n_head: int=1\n",
    "    d_ff: int=128\n",
    "    dropout: float=0.1\n",
    "    batch_size: int=32\n",
    "    num_workers: int=4\n",
    "    lr: float=1e-3\n",
    "    epoch: int=3\n",
    "    device: str=\"cuda\"\n",
    "\n",
    "args = set_args()\n",
    "\n",
    "# read data\n",
    "train_images = idx2numpy.convert_from_file(\"data/train-images.idx3-ubyte\")\n",
    "train_labels = idx2numpy.convert_from_file(\"data/train-labels.idx1-ubyte\")\n",
    "test_images = idx2numpy.convert_from_file(\"data/t10k-images.idx3-ubyte\")\n",
    "test_labels = idx2numpy.convert_from_file(\"data/t10k-labels.idx1-ubyte\")\n",
    "\n",
    "# dataset\n",
    "train_dataset = MNIST_Dataset(train_images, train_labels)\n",
    "test_dataset = MNIST_Dataset(test_images, test_labels)\n",
    "\n",
    "# dataloader\n",
    "train_loader = DataLoader(\n",
    "    train_dataset, \n",
    "    batch_size=args.batch_size, \n",
    "    num_workers=args.num_workers,\n",
    "    shuffle=True,\n",
    "    pin_memory=True,\n",
    "    drop_last=True\n",
    ")\n",
    "test_loader = DataLoader(\n",
    "    test_dataset, \n",
    "    batch_size=args.batch_size, \n",
    "    num_workers=args.num_workers,\n",
    "    shuffle=False,\n",
    "    pin_memory=True,\n",
    "    drop_last=True\n",
    ")\n",
    "\n",
    "# set model\n",
    "model = Model(args.img_channel, args.hidden_dim, args.n_head, args.d_ff,args.dropout, args.n_class)\n",
    "model.to(args.device)\n",
    "optimizer = torch.optim.AdamW(model.parameters(), lr=args.lr)\n",
    "scheduler = torch.optim.lr_scheduler.MultiStepLR(optimizer, milestones=[1, 2], gamma=0.1)\n",
    "criterion = nn.CrossEntropyLoss()"
   ]
  },
  {
   "cell_type": "markdown",
   "metadata": {},
   "source": [
    "### Train"
   ]
  },
  {
   "cell_type": "code",
   "execution_count": 4,
   "metadata": {},
   "outputs": [],
   "source": [
    "def train_one_epoch(epoch, model, dataloader, optimizer, scheduler, criterion, device):\n",
    "    model.train()\n",
    "    train_loss = None\n",
    "    beta = 0.99\n",
    "    pbar = tqdm(dataloader, desc=f\"EPOCH {epoch:03d}\")\n",
    "    for data in pbar:\n",
    "        image = data[\"image\"].float().to(device)\n",
    "        label = data[\"label\"].long().to(device)\n",
    "\n",
    "        y, _ = model(image)\n",
    "        loss = criterion(y, label)\n",
    "\n",
    "        optimizer.zero_grad()\n",
    "        loss.backward()\n",
    "        optimizer.step()\n",
    "\n",
    "        if train_loss is None:\n",
    "            train_loss = loss.item()\n",
    "        else:\n",
    "            train_loss = (1-beta)*loss.item() + beta*train_loss\n",
    "        pbar.set_postfix(\n",
    "            dict(\n",
    "                loss=np.mean(train_loss),\n",
    "                lr=optimizer.param_groups[0][\"lr\"]\n",
    "            )\n",
    "        )\n",
    "    scheduler.step()\n",
    "\n",
    "def evaluation(model, dataloader, device):\n",
    "    model.eval()\n",
    "    pred = []\n",
    "    true = []\n",
    "    for data in dataloader:\n",
    "        image = data[\"image\"].float().to(device)\n",
    "        label = data[\"label\"].long().to(device)\n",
    "\n",
    "        with torch.no_grad():\n",
    "            y, _ = model(image)\n",
    "\n",
    "        p = torch.argmax(y, axis=1).cpu().numpy()\n",
    "        t = label.cpu().numpy()\n",
    "        pred.append(p)\n",
    "        true.append(t)\n",
    "\n",
    "    pred = np.concatenate(pred).astype(int)\n",
    "    true = np.concatenate(true).astype(int)\n",
    "    accuracy = np.mean(true==pred)\n",
    "    print(f\"Accuracy: {100*accuracy:.2f} %\")"
   ]
  },
  {
   "cell_type": "code",
   "execution_count": 5,
   "metadata": {},
   "outputs": [
    {
     "name": "stderr",
     "output_type": "stream",
     "text": [
      "EPOCH 000: 100%|██████████| 1875/1875 [01:14<00:00, 25.05it/s, loss=0.249, lr=0.001]\n"
     ]
    },
    {
     "name": "stdout",
     "output_type": "stream",
     "text": [
      "Accuracy: 94.68 %\n"
     ]
    },
    {
     "name": "stderr",
     "output_type": "stream",
     "text": [
      "EPOCH 001: 100%|██████████| 1875/1875 [01:14<00:00, 25.21it/s, loss=0.135, lr=0.0001]\n"
     ]
    },
    {
     "name": "stdout",
     "output_type": "stream",
     "text": [
      "Accuracy: 96.46 %\n"
     ]
    },
    {
     "name": "stderr",
     "output_type": "stream",
     "text": [
      "EPOCH 002: 100%|██████████| 1875/1875 [01:14<00:00, 25.15it/s, loss=0.121, lr=1e-5]\n"
     ]
    },
    {
     "name": "stdout",
     "output_type": "stream",
     "text": [
      "Accuracy: 96.49 %\n"
     ]
    }
   ],
   "source": [
    "for epoch in range(args.epoch):\n",
    "    train_one_epoch(epoch, model, train_loader, optimizer, scheduler, criterion, args.device)\n",
    "    evaluation(model, test_loader, args.device)"
   ]
  },
  {
   "cell_type": "markdown",
   "metadata": {},
   "source": [
    "### Inference"
   ]
  },
  {
   "cell_type": "code",
   "execution_count": 6,
   "metadata": {},
   "outputs": [],
   "source": [
    "model.eval()\n",
    "for data in test_loader:\n",
    "    image = data[\"image\"].float().to(args.device)\n",
    "    with torch.no_grad():\n",
    "        y, score = model(image)\n",
    "        \n",
    "    I = 255*data[\"image\"]\n",
    "    I = I.numpy().astype(np.uint8)\n",
    "    I = I[:, 0, :, :]\n",
    "    score = score.cpu().numpy()\n",
    "    p = torch.argmax(y, axis=1).cpu().numpy()\n",
    "    t = data[\"label\"]\n",
    "    break"
   ]
  },
  {
   "cell_type": "code",
   "execution_count": 7,
   "metadata": {},
   "outputs": [
    {
     "data": {
      "image/png": "[encoded data removed]",
      "text/plain": [
       "<Figure size 720x288 with 2 Axes>"
      ]
     },
     "metadata": {
      "needs_background": "light"
     },
     "output_type": "display_data"
    },
    {
     "data": {
      "image/png": "[encoded data removed]",
      "text/plain": [
       "<Figure size 720x288 with 2 Axes>"
      ]
     },
     "metadata": {
      "needs_background": "light"
     },
     "output_type": "display_data"
    },
    {
     "data": {
      "image/png": "[encoded data removed]",
      "text/plain": [
       "<Figure size 720x288 with 2 Axes>"
      ]
     },
     "metadata": {
      "needs_background": "light"
     },
     "output_type": "display_data"
    }
   ],
   "source": [
    "def get_att_map(att_mat):\n",
    "    att_map = np.mean(att_mat, axis=0)\n",
    "    att_map = np.minimum(att_map, np.percentile(att_map, 95))\n",
    "    att_map = 255*(att_map/np.max(att_map))\n",
    "    att_map = att_map.reshape(28, 28).astype(np.uint8)\n",
    "    return att_map\n",
    "\n",
    "for i in range(3):\n",
    "    pred = p[i]\n",
    "    true = t[i]\n",
    "\n",
    "    image = I[i, :, :]\n",
    "    att_mat = score[i, :, :]\n",
    "    att_map = get_att_map(att_mat)\n",
    "\n",
    "    plt.figure(figsize=(10, 4))\n",
    "\n",
    "    plt.subplot(1, 2, 1)\n",
    "    plt.title(f\"True={true}, Pred={pred}\")\n",
    "    plt.imshow(image, cmap=\"gray\")\n",
    "\n",
    "    plt.subplot(1, 2, 2)\n",
    "    plt.title(\"Attention Score\")\n",
    "    plt.imshow(att_map, cmap=\"hot\")    \n",
    "\n",
    "    plt.show()"
   ]
  }
 ],
 "metadata": {
  "kernelspec": {
   "display_name": "pytorch",
   "language": "python",
   "name": "pytorch"
  },
  "language_info": {
   "codemirror_mode": {
    "name": "ipython",
    "version": 3
   },
   "file_extension": ".py",
   "mimetype": "text/x-python",
   "name": "python",
   "nbconvert_exporter": "python",
   "pygments_lexer": "ipython3",
   "version": "3.8.10"
  },
  "orig_nbformat": 4
 },
 "nbformat": 4,
 "nbformat_minor": 2
}
